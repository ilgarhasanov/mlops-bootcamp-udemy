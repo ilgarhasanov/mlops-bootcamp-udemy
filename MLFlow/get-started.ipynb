{
 "cells": [
  {
   "cell_type": "code",
   "execution_count": 1,
   "metadata": {},
   "outputs": [],
   "source": [
    "import mlflow"
   ]
  },
  {
   "cell_type": "markdown",
   "metadata": {},
   "source": [
    "Run \"mlflow ui\" in cmd"
   ]
  },
  {
   "cell_type": "code",
   "execution_count": 4,
   "metadata": {},
   "outputs": [],
   "source": [
    "mlflow.set_tracking_uri(\"http://127.0.0.1:5000\") # where to track experiments"
   ]
  },
  {
   "cell_type": "code",
   "execution_count": 7,
   "metadata": {},
   "outputs": [
    {
     "name": "stderr",
     "output_type": "stream",
     "text": [
      "2025/01/23 09:32:45 INFO mlflow.tracking.fluent: Experiment with name 'test getstarting script' does not exist. Creating a new experiment.\n",
      "2025/01/23 09:32:45 INFO mlflow.tracking._tracking_service.client: 🏃 View run entertaining-bug-608 at: http://127.0.0.1:5000/#/experiments/798183884385844591/runs/33fc31120a9c42faa8c8f6365a5aa5af.\n",
      "2025/01/23 09:32:45 INFO mlflow.tracking._tracking_service.client: 🧪 View experiment at: http://127.0.0.1:5000/#/experiments/798183884385844591.\n"
     ]
    }
   ],
   "source": [
    "# New experiment\n",
    "mlflow.set_experiment(\"test getstarting script\")\n",
    "with mlflow.start_run():\n",
    "    mlflow.log_metric(\"test1\", 1)\n",
    "    mlflow.log_metric(\"ilgar1\", 2)"
   ]
  },
  {
   "cell_type": "code",
   "execution_count": 8,
   "metadata": {},
   "outputs": [
    {
     "name": "stderr",
     "output_type": "stream",
     "text": [
      "2025/01/23 09:33:45 INFO mlflow.tracking._tracking_service.client: 🏃 View run youthful-yak-836 at: http://127.0.0.1:5000/#/experiments/798183884385844591/runs/cb7a87ec812541bdb77667564c16f897.\n",
      "2025/01/23 09:33:45 INFO mlflow.tracking._tracking_service.client: 🧪 View experiment at: http://127.0.0.1:5000/#/experiments/798183884385844591.\n"
     ]
    }
   ],
   "source": [
    "with mlflow.start_run():\n",
    "    mlflow.log_metric(\"test1\", 2)\n",
    "    mlflow.log_metric(\"ilgar1\", 3)"
   ]
  }
 ],
 "metadata": {
  "kernelspec": {
   "display_name": "Python 3",
   "language": "python",
   "name": "python3"
  },
  "language_info": {
   "codemirror_mode": {
    "name": "ipython",
    "version": 3
   },
   "file_extension": ".py",
   "mimetype": "text/x-python",
   "name": "python",
   "nbconvert_exporter": "python",
   "pygments_lexer": "ipython3",
   "version": "3.12.7"
  }
 },
 "nbformat": 4,
 "nbformat_minor": 2
}
